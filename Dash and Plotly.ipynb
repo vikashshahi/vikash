{
 "cells": [
  {
   "cell_type": "code",
   "execution_count": 9,
   "id": "ba4510e8-af66-40b6-9752-da5098a10248",
   "metadata": {
    "tags": []
   },
   "outputs": [
    {
     "name": "stdout",
     "output_type": "stream",
     "text": [
      "Collecting dash-html-components\n",
      "  Downloading dash_html_components-2.0.0-py3-none-any.whl (4.1 kB)\n",
      "Installing collected packages: dash-html-components\n",
      "\u001b[31mERROR: pip's dependency resolver does not currently take into account all the packages that are installed. This behaviour is the source of the following dependency conflicts.\n",
      "dash 2.9.3 requires dash-core-components==2.0.0, which is not installed.\n",
      "dash 2.9.3 requires dash-table==5.0.0, which is not installed.\u001b[0m\u001b[31m\n",
      "\u001b[0mSuccessfully installed dash-html-components-2.0.0\n",
      "Collecting dash_core_components\n",
      "  Downloading dash_core_components-2.0.0-py3-none-any.whl (3.8 kB)\n",
      "Installing collected packages: dash_core_components\n",
      "\u001b[31mERROR: pip's dependency resolver does not currently take into account all the packages that are installed. This behaviour is the source of the following dependency conflicts.\n",
      "dash 2.9.3 requires dash-table==5.0.0, which is not installed.\u001b[0m\u001b[31m\n",
      "\u001b[0mSuccessfully installed dash_core_components-2.0.0\n"
     ]
    }
   ],
   "source": [
    "!pip install dash-html-components\n",
    "!pip install dash_core_components"
   ]
  },
  {
   "cell_type": "code",
   "execution_count": 12,
   "id": "370f4cf9-11b3-47bc-863e-e7bb165234a3",
   "metadata": {
    "tags": []
   },
   "outputs": [],
   "source": [
    "import pandas as pd\n",
    "import requests\n",
    "from io import StringIO\n",
    "import pandas as pd\n",
    "import dash\n",
    "import dash_html_components as html\n",
    "import dash_core_components as dcc\n",
    "from dash.dependencies import Input, Output\n",
    "import plotly.express as px\n"
   ]
  },
  {
   "cell_type": "code",
   "execution_count": 3,
   "id": "2590f2c4-19d1-47dc-97cd-05597ea92876",
   "metadata": {
    "tags": []
   },
   "outputs": [],
   "source": [
    "url  = \"https://cf-courses-data.s3.us.cloud-object-storage.appdomain.cloud/IBM-DS0321EN-SkillsNetwork/datasets/spacex_launch_dash.csv\""
   ]
  },
  {
   "cell_type": "code",
   "execution_count": 6,
   "id": "69e234cb-702e-4ada-80fd-c1f8b2567318",
   "metadata": {
    "tags": []
   },
   "outputs": [],
   "source": [
    "resp = requests.get(url)\n",
    "data = resp.text\n",
    "dt = StringIO(data)\n",
    "df = pd.read_csv(dt, delimiter = ',')"
   ]
  },
  {
   "cell_type": "code",
   "execution_count": 30,
   "id": "76dcacb2-ba76-43bd-bba0-8b058b25dc9d",
   "metadata": {
    "tags": []
   },
   "outputs": [
    {
     "data": {
      "text/plain": [
       "Unnamed: 0                  0\n",
       "Flight Number               0\n",
       "Launch Site                 0\n",
       "class                       0\n",
       "Payload Mass (kg)           0\n",
       "Booster Version             0\n",
       "Booster Version Category    0\n",
       "dtype: int64"
      ]
     },
     "execution_count": 30,
     "metadata": {},
     "output_type": "execute_result"
    }
   ],
   "source": [
    "df.isnull().sum()"
   ]
  },
  {
   "cell_type": "code",
   "execution_count": 32,
   "id": "495d1e7f-5756-474e-8c95-348a3d67a22a",
   "metadata": {
    "tags": []
   },
   "outputs": [],
   "source": [
    "df.drop('Unnamed: 0' , axis = 1, inplace = True)"
   ]
  },
  {
   "cell_type": "code",
   "execution_count": 19,
   "id": "1d48e736-bd52-4713-a0e1-e003bd7952e6",
   "metadata": {
    "tags": []
   },
   "outputs": [],
   "source": [
    "app = dash.Dash(__name__)"
   ]
  },
  {
   "cell_type": "markdown",
   "id": "dc406086-28fe-46af-89d4-77b65c79fc28",
   "metadata": {},
   "source": [
    "### TASK 1: Add a Launch Site Drop-down Input Component\n"
   ]
  },
  {
   "cell_type": "markdown",
   "id": "6526f2c6-85a0-4325-ad91-707cc94daa6f",
   "metadata": {},
   "source": [
    "We have four different launch sites and we would like to first see which one has the largest success count. Then,\n",
    "we would like to select one specific site and check its detailed success rate (class=0 vs. class=1).\n",
    "\n",
    "As such, we will need a dropdown menu to let us select different launch sites"
   ]
  },
  {
   "cell_type": "code",
   "execution_count": 58,
   "id": "4a1b8131-73ad-4a8a-ae6b-11ee941a3044",
   "metadata": {
    "tags": []
   },
   "outputs": [],
   "source": [
    "app.layout =  html.Div([html.H1('Sample Dash'), \n",
    "                        dcc.Dropdown(id='site-dropdown', options=[\n",
    "                           {'label': 'All Sites', 'value': 'All Sites'},\n",
    "                           {'label': 'CCAFS LC-40', 'value': 'CCAFS LC-40'},\n",
    "                           {'label': 'VAFB SLC-4E', 'value': 'VAFB SLC-4E'},\n",
    "                           {'label': 'KSC LC-39A', 'value': 'KSC LC-39A'},\n",
    "                           {'label': 'CCAFS SLC-40', 'value': 'CCAFS SLC-40'}],\n",
    "                        placeholder='Select a Launch Site',\n",
    "                        value='All Sites',\n",
    "                        searchable=True),\n",
    "                        html.Br(),\n",
    "                       \n",
    "                       #TASK 2: Add a callback function to render success-pie-chart based on selected site dropdown\n",
    "                       html.Div(dcc.Graph(id = 'success-pie-chart')),\n",
    "                        \n",
    "                        #Task 3: Now add a range slider\n",
    "                        dcc.RangeSlider(id='payload-slider',\n",
    "                                        min=0, max=10000, step=1000,\n",
    "                                        marks={i: '{}'.format(i) for i in range(0,10001,1000)},\n",
    "                                        value=[min, max]),\n",
    "                       \n",
    "                       #TASK4: Plot a scatter chart\n",
    "                       html.Div(dcc.Graph(id='success-payload-scatter-chart'))])"
   ]
  },
  {
   "cell_type": "code",
   "execution_count": 59,
   "id": "789e460e-c23c-4d7c-b8e1-acd736987c74",
   "metadata": {
    "tags": []
   },
   "outputs": [],
   "source": [
    "# Function decorator to specify function input and output\n",
    "@app.callback(\n",
    "    Output('success-pie-chart', 'figure'),\n",
    "    Input('site-dropdown', 'value')\n",
    ")\n",
    "def get_pie_chart(launched):\n",
    "    if launched == 'All Sites':\n",
    "        fig = px.pie(\n",
    "            values=spacex_df.groupby('Launch Site')['class'].mean(),\n",
    "            names=spacex_df.groupby('Launch Site')['Launch Site'].first(),\n",
    "            title='Total Success Launches by Site'\n",
    "        )\n",
    "    else:\n",
    "        filtered_data = spacex_df[spacex_df['Launch Site'] == launched]\n",
    "        success_counts = filtered_data['class'].value_counts(normalize=True)\n",
    "        fig = px.pie(\n",
    "            values=success_counts,\n",
    "            names=success_counts.index,\n",
    "            title=f'Total Success Launches for Site {launched}'\n",
    "        )\n",
    "\n",
    "    return fig\n"
   ]
  },
  {
   "cell_type": "code",
   "execution_count": 60,
   "id": "00be6a97-ab34-45be-b3a2-60bbad798b2c",
   "metadata": {
    "tags": []
   },
   "outputs": [],
   "source": [
    "#Funtion to render scatter plot\n",
    "@app.callback(\n",
    "    Output('success-payload-scatter-chart', 'figure'),\n",
    "    [Input('site-dropdown', 'value'), Input('payload-slider', 'value')]\n",
    ")\n",
    "def get_scatter_chart(launched,payload):\n",
    "    if launched == 'All Sites':\n",
    "        filtered_data = spacex_df\n",
    "    else:\n",
    "        filtered_data = spacex_df[spacex_df['Launch Site'] == launched]\n",
    "\n",
    "    if payload is not None:\n",
    "        filtered_data = filtered_data[\n",
    "            (filtered_data['Payload Mass (kg)'] >= payload[0]) &\n",
    "            (filtered_data['Payload Mass (kg)'] <= payload[1])\n",
    "        ]\n",
    "\n",
    "    fig = px.scatter(\n",
    "        filtered_data,\n",
    "        x='Payload Mass (kg)',\n",
    "        y='class',\n",
    "        color='Booster Version Category',\n",
    "        title='Payload vs Outcome Scatter Plot'\n",
    "    )\n",
    "\n",
    "    return fig"
   ]
  },
  {
   "cell_type": "code",
   "execution_count": 55,
   "id": "00e36df9-f1a5-4b95-aedb-91bd0de35cc3",
   "metadata": {
    "tags": []
   },
   "outputs": [
    {
     "data": {
      "text/html": [
       "<div>\n",
       "<style scoped>\n",
       "    .dataframe tbody tr th:only-of-type {\n",
       "        vertical-align: middle;\n",
       "    }\n",
       "\n",
       "    .dataframe tbody tr th {\n",
       "        vertical-align: top;\n",
       "    }\n",
       "\n",
       "    .dataframe thead th {\n",
       "        text-align: right;\n",
       "    }\n",
       "</style>\n",
       "<table border=\"1\" class=\"dataframe\">\n",
       "  <thead>\n",
       "    <tr style=\"text-align: right;\">\n",
       "      <th></th>\n",
       "      <th>Flight Number</th>\n",
       "      <th>Launch Site</th>\n",
       "      <th>class</th>\n",
       "      <th>Payload Mass (kg)</th>\n",
       "      <th>Booster Version</th>\n",
       "      <th>Booster Version Category</th>\n",
       "    </tr>\n",
       "  </thead>\n",
       "  <tbody>\n",
       "    <tr>\n",
       "      <th>0</th>\n",
       "      <td>1</td>\n",
       "      <td>CCAFS LC-40</td>\n",
       "      <td>0</td>\n",
       "      <td>0.0</td>\n",
       "      <td>F9 v1.0  B0003</td>\n",
       "      <td>v1.0</td>\n",
       "    </tr>\n",
       "    <tr>\n",
       "      <th>1</th>\n",
       "      <td>2</td>\n",
       "      <td>CCAFS LC-40</td>\n",
       "      <td>0</td>\n",
       "      <td>0.0</td>\n",
       "      <td>F9 v1.0  B0004</td>\n",
       "      <td>v1.0</td>\n",
       "    </tr>\n",
       "    <tr>\n",
       "      <th>2</th>\n",
       "      <td>3</td>\n",
       "      <td>CCAFS LC-40</td>\n",
       "      <td>0</td>\n",
       "      <td>525.0</td>\n",
       "      <td>F9 v1.0  B0005</td>\n",
       "      <td>v1.0</td>\n",
       "    </tr>\n",
       "    <tr>\n",
       "      <th>3</th>\n",
       "      <td>4</td>\n",
       "      <td>CCAFS LC-40</td>\n",
       "      <td>0</td>\n",
       "      <td>500.0</td>\n",
       "      <td>F9 v1.0  B0006</td>\n",
       "      <td>v1.0</td>\n",
       "    </tr>\n",
       "    <tr>\n",
       "      <th>4</th>\n",
       "      <td>5</td>\n",
       "      <td>CCAFS LC-40</td>\n",
       "      <td>0</td>\n",
       "      <td>677.0</td>\n",
       "      <td>F9 v1.0  B0007</td>\n",
       "      <td>v1.0</td>\n",
       "    </tr>\n",
       "  </tbody>\n",
       "</table>\n",
       "</div>"
      ],
      "text/plain": [
       "   Flight Number  Launch Site  class  Payload Mass (kg) Booster Version  \\\n",
       "0              1  CCAFS LC-40      0                0.0  F9 v1.0  B0003   \n",
       "1              2  CCAFS LC-40      0                0.0  F9 v1.0  B0004   \n",
       "2              3  CCAFS LC-40      0              525.0  F9 v1.0  B0005   \n",
       "3              4  CCAFS LC-40      0              500.0  F9 v1.0  B0006   \n",
       "4              5  CCAFS LC-40      0              677.0  F9 v1.0  B0007   \n",
       "\n",
       "  Booster Version Category  \n",
       "0                     v1.0  \n",
       "1                     v1.0  \n",
       "2                     v1.0  \n",
       "3                     v1.0  \n",
       "4                     v1.0  "
      ]
     },
     "execution_count": 55,
     "metadata": {},
     "output_type": "execute_result"
    }
   ],
   "source": [
    "df.head()"
   ]
  },
  {
   "cell_type": "code",
   "execution_count": 62,
   "id": "1d7c5edb-f007-4b56-9976-f5313959e560",
   "metadata": {
    "tags": []
   },
   "outputs": [],
   "source": [
    "if __name__ == '__main__':\n",
    "    app.run_server()"
   ]
  },
  {
   "cell_type": "code",
   "execution_count": null,
   "id": "43e916f0-f11d-4f8d-9da1-c9c809f70ada",
   "metadata": {},
   "outputs": [],
   "source": []
  }
 ],
 "metadata": {
  "kernelspec": {
   "display_name": "Python",
   "language": "python",
   "name": "conda-env-python-py"
  },
  "language_info": {
   "codemirror_mode": {
    "name": "ipython",
    "version": 3
   },
   "file_extension": ".py",
   "mimetype": "text/x-python",
   "name": "python",
   "nbconvert_exporter": "python",
   "pygments_lexer": "ipython3",
   "version": "3.7.12"
  }
 },
 "nbformat": 4,
 "nbformat_minor": 5
}
